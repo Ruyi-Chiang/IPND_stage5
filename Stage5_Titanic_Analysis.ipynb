{
 "cells": [
  {
   "cell_type": "markdown",
   "metadata": {},
   "source": [
    "## Stage5 Titanic Data Analysis\n",
    "dataset: Titanic Data\n",
    "\n",
    "This dataset contains demographics and passenger information from 891 of the 2,224 passengers and crew on board the Titanic.\n",
    "\n",
    "###### Missing data:\n",
    "\n",
    "There are 177 missing data in Age data, 687 missing data in Cabin data and 2 missing data in Embarked data. The data are missing at random. In this analysis, I would simply ignore these missing data by using Pandas built-in functions, such as .describe(), .corr(). The functions will exclude missing data by default.\n",
    "\n",
    "### Question: What factors made people more likely to survive?\n",
    "=============\n",
    "###### Factor1: Class\n",
    "Passengers in upper class have higher chance to survive. The survival rate of assengers in Upper class(Class1) is 2.5 times higher than the rate of passengers in Lower class(Class3)\n",
    "\n",
    "###### Factor2: Age\n",
    "Babies and kids(aged from 0 to 10) have the highest survival rate, 0.59, followed by middle-aged group(aged from 30 to 40) with 0.44 survival rate.\n",
    "\n",
    "###### Factor3: Gender\n",
    "Female passengers have higher chance to survive. Female survival rate is 0.74, which is 3.9 times higher than the rate of male passengers. There is huge gender inequality of survival rate accross all age groups, except babies and kids(aged from 0 to 10).\n",
    "\n",
    "While comparing the male fatalities by age, male in twenties and thirties accounts for the major fatalities in the sinking of Titanic. It might because male takes the major responsibility to rescue or be in charge of the functionality of Titanic and let kids or female to evacuate first.\n",
    "\n",
    "###### Conclusion\n",
    "Overall, if you are a kid living in upper class, you might have the best chance to evacuate and survive from Titanic tragedy.\n",
    "\n",
    "* Limitations\n",
    "\n",
    "\n",
    "There are total 2,224 passengers and crew on board the Titanic. However, we can only analyze the 891 passengers data out of 2,224, which accounts for only 40% of passenger data. It might cause bias about this survival factor analysis. For improvement, it might be great if we can retrieve the data of total 2,224 passengers.\n",
    "\n"
   ]
  },
  {
   "cell_type": "markdown",
   "metadata": {},
   "source": [
    "## Python code"
   ]
  },
  {
   "cell_type": "code",
   "execution_count": 130,
   "metadata": {
    "collapsed": true
   },
   "outputs": [],
   "source": [
    "import pandas as pd\n",
    "import numpy as np\n",
    "import matplotlib.pyplot as plt\n",
    "import seaborn as sns"
   ]
  },
  {
   "cell_type": "code",
   "execution_count": 131,
   "metadata": {
    "collapsed": false
   },
   "outputs": [
    {
     "data": {
      "text/html": [
       "<div>\n",
       "<table border=\"1\" class=\"dataframe\">\n",
       "  <thead>\n",
       "    <tr style=\"text-align: right;\">\n",
       "      <th></th>\n",
       "      <th>PassengerId</th>\n",
       "      <th>Survived</th>\n",
       "      <th>Pclass</th>\n",
       "      <th>Age</th>\n",
       "      <th>SibSp</th>\n",
       "      <th>Parch</th>\n",
       "      <th>Fare</th>\n",
       "    </tr>\n",
       "  </thead>\n",
       "  <tbody>\n",
       "    <tr>\n",
       "      <th>count</th>\n",
       "      <td>891.000000</td>\n",
       "      <td>891.000000</td>\n",
       "      <td>891.000000</td>\n",
       "      <td>714.000000</td>\n",
       "      <td>891.000000</td>\n",
       "      <td>891.000000</td>\n",
       "      <td>891.000000</td>\n",
       "    </tr>\n",
       "    <tr>\n",
       "      <th>mean</th>\n",
       "      <td>446.000000</td>\n",
       "      <td>0.383838</td>\n",
       "      <td>2.308642</td>\n",
       "      <td>29.699118</td>\n",
       "      <td>0.523008</td>\n",
       "      <td>0.381594</td>\n",
       "      <td>32.204208</td>\n",
       "    </tr>\n",
       "    <tr>\n",
       "      <th>std</th>\n",
       "      <td>257.353842</td>\n",
       "      <td>0.486592</td>\n",
       "      <td>0.836071</td>\n",
       "      <td>14.526497</td>\n",
       "      <td>1.102743</td>\n",
       "      <td>0.806057</td>\n",
       "      <td>49.693429</td>\n",
       "    </tr>\n",
       "    <tr>\n",
       "      <th>min</th>\n",
       "      <td>1.000000</td>\n",
       "      <td>0.000000</td>\n",
       "      <td>1.000000</td>\n",
       "      <td>0.420000</td>\n",
       "      <td>0.000000</td>\n",
       "      <td>0.000000</td>\n",
       "      <td>0.000000</td>\n",
       "    </tr>\n",
       "    <tr>\n",
       "      <th>25%</th>\n",
       "      <td>223.500000</td>\n",
       "      <td>0.000000</td>\n",
       "      <td>2.000000</td>\n",
       "      <td>20.125000</td>\n",
       "      <td>0.000000</td>\n",
       "      <td>0.000000</td>\n",
       "      <td>7.910400</td>\n",
       "    </tr>\n",
       "    <tr>\n",
       "      <th>50%</th>\n",
       "      <td>446.000000</td>\n",
       "      <td>0.000000</td>\n",
       "      <td>3.000000</td>\n",
       "      <td>28.000000</td>\n",
       "      <td>0.000000</td>\n",
       "      <td>0.000000</td>\n",
       "      <td>14.454200</td>\n",
       "    </tr>\n",
       "    <tr>\n",
       "      <th>75%</th>\n",
       "      <td>668.500000</td>\n",
       "      <td>1.000000</td>\n",
       "      <td>3.000000</td>\n",
       "      <td>38.000000</td>\n",
       "      <td>1.000000</td>\n",
       "      <td>0.000000</td>\n",
       "      <td>31.000000</td>\n",
       "    </tr>\n",
       "    <tr>\n",
       "      <th>max</th>\n",
       "      <td>891.000000</td>\n",
       "      <td>1.000000</td>\n",
       "      <td>3.000000</td>\n",
       "      <td>80.000000</td>\n",
       "      <td>8.000000</td>\n",
       "      <td>6.000000</td>\n",
       "      <td>512.329200</td>\n",
       "    </tr>\n",
       "  </tbody>\n",
       "</table>\n",
       "</div>"
      ],
      "text/plain": [
       "       PassengerId    Survived      Pclass         Age       SibSp  \\\n",
       "count   891.000000  891.000000  891.000000  714.000000  891.000000   \n",
       "mean    446.000000    0.383838    2.308642   29.699118    0.523008   \n",
       "std     257.353842    0.486592    0.836071   14.526497    1.102743   \n",
       "min       1.000000    0.000000    1.000000    0.420000    0.000000   \n",
       "25%     223.500000    0.000000    2.000000   20.125000    0.000000   \n",
       "50%     446.000000    0.000000    3.000000   28.000000    0.000000   \n",
       "75%     668.500000    1.000000    3.000000   38.000000    1.000000   \n",
       "max     891.000000    1.000000    3.000000   80.000000    8.000000   \n",
       "\n",
       "            Parch        Fare  \n",
       "count  891.000000  891.000000  \n",
       "mean     0.381594   32.204208  \n",
       "std      0.806057   49.693429  \n",
       "min      0.000000    0.000000  \n",
       "25%      0.000000    7.910400  \n",
       "50%      0.000000   14.454200  \n",
       "75%      0.000000   31.000000  \n",
       "max      6.000000  512.329200  "
      ]
     },
     "execution_count": 131,
     "metadata": {},
     "output_type": "execute_result"
    }
   ],
   "source": [
    "# Read Titanic data as Pandas dataframe and use .describe() & .head() & .dtypes to get the idea of the data \n",
    "file_name = 'titanic_data.csv'\n",
    "titanic_df = pd.read_csv(file_name)\n",
    "titanic_df.describe() # .describe() will exclude NaN data"
   ]
  },
  {
   "cell_type": "code",
   "execution_count": 132,
   "metadata": {
    "collapsed": false
   },
   "outputs": [
    {
     "data": {
      "text/html": [
       "<div>\n",
       "<table border=\"1\" class=\"dataframe\">\n",
       "  <thead>\n",
       "    <tr style=\"text-align: right;\">\n",
       "      <th></th>\n",
       "      <th>PassengerId</th>\n",
       "      <th>Survived</th>\n",
       "      <th>Pclass</th>\n",
       "      <th>Name</th>\n",
       "      <th>Sex</th>\n",
       "      <th>Age</th>\n",
       "      <th>SibSp</th>\n",
       "      <th>Parch</th>\n",
       "      <th>Ticket</th>\n",
       "      <th>Fare</th>\n",
       "      <th>Cabin</th>\n",
       "      <th>Embarked</th>\n",
       "    </tr>\n",
       "  </thead>\n",
       "  <tbody>\n",
       "    <tr>\n",
       "      <th>0</th>\n",
       "      <td>1</td>\n",
       "      <td>0</td>\n",
       "      <td>3</td>\n",
       "      <td>Braund, Mr. Owen Harris</td>\n",
       "      <td>male</td>\n",
       "      <td>22</td>\n",
       "      <td>1</td>\n",
       "      <td>0</td>\n",
       "      <td>A/5 21171</td>\n",
       "      <td>7.2500</td>\n",
       "      <td>NaN</td>\n",
       "      <td>S</td>\n",
       "    </tr>\n",
       "    <tr>\n",
       "      <th>1</th>\n",
       "      <td>2</td>\n",
       "      <td>1</td>\n",
       "      <td>1</td>\n",
       "      <td>Cumings, Mrs. John Bradley (Florence Briggs Th...</td>\n",
       "      <td>female</td>\n",
       "      <td>38</td>\n",
       "      <td>1</td>\n",
       "      <td>0</td>\n",
       "      <td>PC 17599</td>\n",
       "      <td>71.2833</td>\n",
       "      <td>C85</td>\n",
       "      <td>C</td>\n",
       "    </tr>\n",
       "    <tr>\n",
       "      <th>2</th>\n",
       "      <td>3</td>\n",
       "      <td>1</td>\n",
       "      <td>3</td>\n",
       "      <td>Heikkinen, Miss. Laina</td>\n",
       "      <td>female</td>\n",
       "      <td>26</td>\n",
       "      <td>0</td>\n",
       "      <td>0</td>\n",
       "      <td>STON/O2. 3101282</td>\n",
       "      <td>7.9250</td>\n",
       "      <td>NaN</td>\n",
       "      <td>S</td>\n",
       "    </tr>\n",
       "    <tr>\n",
       "      <th>3</th>\n",
       "      <td>4</td>\n",
       "      <td>1</td>\n",
       "      <td>1</td>\n",
       "      <td>Futrelle, Mrs. Jacques Heath (Lily May Peel)</td>\n",
       "      <td>female</td>\n",
       "      <td>35</td>\n",
       "      <td>1</td>\n",
       "      <td>0</td>\n",
       "      <td>113803</td>\n",
       "      <td>53.1000</td>\n",
       "      <td>C123</td>\n",
       "      <td>S</td>\n",
       "    </tr>\n",
       "    <tr>\n",
       "      <th>4</th>\n",
       "      <td>5</td>\n",
       "      <td>0</td>\n",
       "      <td>3</td>\n",
       "      <td>Allen, Mr. William Henry</td>\n",
       "      <td>male</td>\n",
       "      <td>35</td>\n",
       "      <td>0</td>\n",
       "      <td>0</td>\n",
       "      <td>373450</td>\n",
       "      <td>8.0500</td>\n",
       "      <td>NaN</td>\n",
       "      <td>S</td>\n",
       "    </tr>\n",
       "  </tbody>\n",
       "</table>\n",
       "</div>"
      ],
      "text/plain": [
       "   PassengerId  Survived  Pclass  \\\n",
       "0            1         0       3   \n",
       "1            2         1       1   \n",
       "2            3         1       3   \n",
       "3            4         1       1   \n",
       "4            5         0       3   \n",
       "\n",
       "                                                Name     Sex  Age  SibSp  \\\n",
       "0                            Braund, Mr. Owen Harris    male   22      1   \n",
       "1  Cumings, Mrs. John Bradley (Florence Briggs Th...  female   38      1   \n",
       "2                             Heikkinen, Miss. Laina  female   26      0   \n",
       "3       Futrelle, Mrs. Jacques Heath (Lily May Peel)  female   35      1   \n",
       "4                           Allen, Mr. William Henry    male   35      0   \n",
       "\n",
       "   Parch            Ticket     Fare Cabin Embarked  \n",
       "0      0         A/5 21171   7.2500   NaN        S  \n",
       "1      0          PC 17599  71.2833   C85        C  \n",
       "2      0  STON/O2. 3101282   7.9250   NaN        S  \n",
       "3      0            113803  53.1000  C123        S  \n",
       "4      0            373450   8.0500   NaN        S  "
      ]
     },
     "execution_count": 132,
     "metadata": {},
     "output_type": "execute_result"
    }
   ],
   "source": [
    "titanic_df.head()"
   ]
  },
  {
   "cell_type": "code",
   "execution_count": 133,
   "metadata": {
    "collapsed": false
   },
   "outputs": [
    {
     "data": {
      "text/plain": [
       "PassengerId      int64\n",
       "Survived         int64\n",
       "Pclass           int64\n",
       "Name            object\n",
       "Sex             object\n",
       "Age            float64\n",
       "SibSp            int64\n",
       "Parch            int64\n",
       "Ticket          object\n",
       "Fare           float64\n",
       "Cabin           object\n",
       "Embarked        object\n",
       "dtype: object"
      ]
     },
     "execution_count": 133,
     "metadata": {},
     "output_type": "execute_result"
    }
   ],
   "source": [
    "titanic_df.dtypes"
   ]
  },
  {
   "cell_type": "code",
   "execution_count": 134,
   "metadata": {
    "collapsed": false
   },
   "outputs": [
    {
     "data": {
      "text/plain": [
       "PassengerId   -0.005007\n",
       "Survived       1.000000\n",
       "Pclass        -0.338481\n",
       "Age           -0.077221\n",
       "SibSp         -0.035322\n",
       "Parch          0.081629\n",
       "Fare           0.257307\n",
       "Name: Survived, dtype: float64"
      ]
     },
     "execution_count": 134,
     "metadata": {},
     "output_type": "execute_result"
    }
   ],
   "source": [
    "'''Use Pandas .corr() to calculate the correlation coefficient of Survived with other factors. \n",
    "It helps me to get the idea on which factor I can look deeper.'''\n",
    "\n",
    "titanic_df.corr()['Survived']"
   ]
  },
  {
   "cell_type": "code",
   "execution_count": 135,
   "metadata": {
    "collapsed": false
   },
   "outputs": [
    {
     "data": {
      "text/plain": [
       "PassengerId      0\n",
       "Survived         0\n",
       "Pclass           0\n",
       "Name             0\n",
       "Sex              0\n",
       "Age            177\n",
       "SibSp            0\n",
       "Parch            0\n",
       "Ticket           0\n",
       "Fare             0\n",
       "Cabin          687\n",
       "Embarked         2\n",
       "dtype: int64"
      ]
     },
     "execution_count": 135,
     "metadata": {},
     "output_type": "execute_result"
    }
   ],
   "source": [
    "# Check the number of missing data in each column\n",
    "titanic_df.isnull().sum()"
   ]
  },
  {
   "cell_type": "code",
   "execution_count": 136,
   "metadata": {
    "collapsed": false
   },
   "outputs": [
    {
     "name": "stdout",
     "output_type": "stream",
     "text": [
      "Number of unique PassengerId: 891\n",
      "Number of survivors in this dataset: 342\n"
     ]
    }
   ],
   "source": [
    "# Checking the number of unique PassengerId and number of survivors in this dataset.\n",
    "# Comparing to total 2,224 passengers and crew on board the Titanic.\n",
    "print 'Number of unique PassengerId:', len(set(titanic_df.PassengerId))\n",
    "print 'Number of survivors in this dataset:', titanic_df.Survived.sum()"
   ]
  },
  {
   "cell_type": "code",
   "execution_count": 137,
   "metadata": {
    "collapsed": true
   },
   "outputs": [],
   "source": [
    "# Function to calculate survival rate by given group name\n",
    "def survival_rate_calculator(df, group_name):\n",
    "    total_number_by_group = df.groupby(group_name)['PassengerId'].count()\n",
    "    survived_number_by_group = df.groupby(group_name)['Survived'].sum()\n",
    "    return survived_number_by_group / total_number_by_group"
   ]
  },
  {
   "cell_type": "code",
   "execution_count": 138,
   "metadata": {
    "collapsed": false
   },
   "outputs": [
    {
     "data": {
      "image/png": "[encoded data removed]",
      "text/plain": [
       "<matplotlib.figure.Figure at 0x11d66cc50>"
      ]
     },
     "metadata": {},
     "output_type": "display_data"
    },
    {
     "name": "stdout",
     "output_type": "stream",
     "text": [
      "Pclass\n",
      "1    0.629630\n",
      "2    0.472826\n",
      "3    0.242363\n",
      "dtype: float64\n",
      "Survival Rate(Class1 vs. Class3): 2.59788359788\n"
     ]
    }
   ],
   "source": [
    "# Look into survival rate by class\n",
    "%matplotlib inline\n",
    "survival_rate_by_class = survival_rate_calculator(titanic_df, 'Pclass')\n",
    "\n",
    "plt.bar(survived_rate_by_class.index, survived_rate_by_class)\n",
    "plt.title('Survival Rate by Class')\n",
    "plt.show()\n",
    "\n",
    "print survived_rate_by_class\n",
    "print 'Survival Rate(Class1 vs. Class3):', survived_rate_by_class.loc[1]/survived_rate_by_class.loc[3]"
   ]
  },
  {
   "cell_type": "code",
   "execution_count": 139,
   "metadata": {
    "collapsed": false
   },
   "outputs": [
    {
     "name": "stdout",
     "output_type": "stream",
     "text": [
      "People stay in Lower Class(class3) are the majority of those who did not survive(Historgram title with \"0\")\n"
     ]
    },
    {
     "data": {
      "image/png": "[encoded data removed]",
      "text/plain": [
       "<matplotlib.figure.Figure at 0x11d1cd590>"
      ]
     },
     "metadata": {},
     "output_type": "display_data"
    }
   ],
   "source": [
    "# Compare those who survived and those who didn't survive by class\n",
    "%matplotlib inline\n",
    "titanic_df['Pclass'].hist(by= titanic_df['Survived'], bins=3)\n",
    "print 'People stay in Lower Class(class3) are the majority of those who did not survive(Historgram title with \"0\")'"
   ]
  },
  {
   "cell_type": "code",
   "execution_count": 140,
   "metadata": {
    "collapsed": false
   },
   "outputs": [
    {
     "data": {
      "image/png": "[encoded data removed]",
      "text/plain": [
       "<matplotlib.figure.Figure at 0x11cc53ad0>"
      ]
     },
     "metadata": {},
     "output_type": "display_data"
    },
    {
     "data": {
      "image/png": "[encoded data removed]",
      "text/plain": [
       "<matplotlib.figure.Figure at 0x11d5ea290>"
      ]
     },
     "metadata": {},
     "output_type": "display_data"
    },
    {
     "name": "stdout",
     "output_type": "stream",
     "text": [
      "        Avg. Survival Rate  Avg. Fare\n",
      "Class1            0.629630  84.154687\n",
      "Class2            0.472826  20.662183\n",
      "Class3            0.242363  13.675550\n",
      "\n"
     ]
    }
   ],
   "source": [
    "%matplotlib inline\n",
    "titanic_df.corr()['Pclass']\n",
    "titanic_df.plot(kind='scatter', x= 'Age', y='Fare')\n",
    "plt.show()\n",
    "\n",
    "aver_fare_by_class = titanic_df.groupby('Pclass')['Fare'].mean()\n",
    "\n",
    "df_by_class = pd.concat([survived_rate_by_class, aver_fare_by_class], axis=1)\n",
    "df_by_class.columns = ['Avg. Survival Rate', 'Avg. Fare']\n",
    "df_by_class.index = ['Class1', 'Class2', 'Class3']\n",
    "fig, ax = plt.subplots()\n",
    "df_by_class.plot(kind='scatter', x= 'Avg. Survival Rate', y='Avg. Fare', marker='o', s= (500.5, 500.5, 500.5), ax=ax)\n",
    "for k, v in df_by_class.iterrows():\n",
    "    ax.annotate(k, v)\n",
    "plt.show()\n",
    "print df_by_class\n",
    "print ''"
   ]
  },
  {
   "cell_type": "code",
   "execution_count": 141,
   "metadata": {
    "collapsed": false
   },
   "outputs": [
    {
     "data": {
      "image/png": "[encoded data removed]",
      "text/plain": [
       "<matplotlib.figure.Figure at 0x11c560090>"
      ]
     },
     "metadata": {},
     "output_type": "display_data"
    },
    {
     "name": "stdout",
     "output_type": "stream",
     "text": [
      "Age\n",
      "(0, 10]     0.593750\n",
      "(10, 20]    0.382609\n",
      "(20, 30]    0.365217\n",
      "(30, 40]    0.445161\n",
      "(40, 50]    0.383721\n",
      "(50, 60]    0.404762\n",
      "(60, 70]    0.235294\n",
      "(70, 80]    0.200000\n",
      "dtype: float64\n"
     ]
    }
   ],
   "source": [
    "# Survival rate by age group\n",
    "bins = np.linspace(0, 80, num=9, dtype ='int16')\n",
    "age_bin = pd.cut(titanic_df.Age, bins)\n",
    "survival_rate_by_age = survival_rate_calculator(titanic_df, age_bin)\n",
    "\n",
    "%matplotlib inline\n",
    "survival_rate_by_age.plot.bar(alpha=0.5)\n",
    "plt.title('Survival Rate by Age Group(Total Survivers)')\n",
    "plt.show()\n",
    "print survival_rate_by_age\n"
   ]
  },
  {
   "cell_type": "code",
   "execution_count": 142,
   "metadata": {
    "collapsed": false
   },
   "outputs": [
    {
     "data": {
      "image/png": "[encoded data removed]",
      "text/plain": [
       "<matplotlib.figure.Figure at 0x119eb34d0>"
      ]
     },
     "metadata": {},
     "output_type": "display_data"
    },
    {
     "name": "stdout",
     "output_type": "stream",
     "text": [
      "Female survival rate: 0.742038216561\n",
      "Male survival rate: 0.188908145581\n",
      "Survival rate(female vs male): 3.92803716473\n"
     ]
    }
   ],
   "source": [
    "# Survival rate by gender group\n",
    "gender_survival_rate = survival_rate_calculator(titanic_df, 'Sex')\n",
    "\n",
    "%matplotlib inline\n",
    "gender_survival_rate.plot.bar()\n",
    "plt.title('Survival rate by gender')\n",
    "plt.show()\n",
    "print 'Female survival rate:', gender_survival_rate['female']\n",
    "print 'Male survival rate:', gender_survival_rate['male']\n",
    "print 'Survival rate(female vs male):', gender_survival_rate['female']/gender_survival_rate['male']\n"
   ]
  },
  {
   "cell_type": "code",
   "execution_count": 143,
   "metadata": {
    "collapsed": false
   },
   "outputs": [
    {
     "data": {
      "image/png": "[encoded data removed]",
      "text/plain": [
       "<matplotlib.figure.Figure at 0x11d183990>"
      ]
     },
     "metadata": {},
     "output_type": "display_data"
    },
    {
     "name": "stdout",
     "output_type": "stream",
     "text": [
      "There is gender inequality across all age groups, except the age group of 0-10.\n"
     ]
    }
   ],
   "source": [
    "# Compare survival rate by sex and age. \n",
    "\n",
    "male_df = titanic_df.loc[titanic_df.Sex == 'male']\n",
    "female_df = titanic_df.loc[titanic_df.Sex == 'female']\n",
    "\n",
    "male_age_bin = pd.cut(male_df.Age, bins)\n",
    "male_survival_rate_by_age = survival_rate_calculator(male_df, male_age_bin)\n",
    "female_age_bin = pd.cut(female_df.Age, bins)\n",
    "female_survival_rate_by_age = survival_rate_calculator(female_df, female_age_bin)\n",
    "\n",
    "%matplotlib inline\n",
    "male_survival_rate_by_age.plot.bar(label= 'male')\n",
    "female_survival_rate_by_age.plot.bar(alpha=0.5, label='female')\n",
    "plt.legend(loc='upper right')\n",
    "plt.title('Survival Rate by Sex and Age')\n",
    "plt.show()\n",
    "\n",
    "print 'There is gender inequality across all age groups, except the age group of 0-10.'"
   ]
  },
  {
   "cell_type": "code",
   "execution_count": 144,
   "metadata": {
    "collapsed": false
   },
   "outputs": [
    {
     "data": {
      "image/png": "[encoded data removed]",
      "text/plain": [
       "<matplotlib.figure.Figure at 0x11ba90590>"
      ]
     },
     "metadata": {},
     "output_type": "display_data"
    }
   ],
   "source": [
    "# Compare the age distribution of those who did not survive by sex\n",
    "\n",
    "died_male_df = titanic_df.loc[(titanic_df['Sex']== 'male') & (titanic_df['Survived'] == 0)]\n",
    "died_female_df = titanic_df.loc[(titanic_df['Sex']== 'female') & (titanic_df['Survived'] == 0)]\n",
    "\n",
    "%matplotlib inline\n",
    "\n",
    "bins = np.linspace(0, 80, num=9)\n",
    "plt.hist(died_male_df['Age'], bins, label='male')\n",
    "plt.hist(died_female_df['Age'], bins, label='female', alpha=0.7)\n",
    "plt.legend(loc='upper right')\n",
    "plt.title('Age Distribution of those who did not survive')\n",
    "plt.show()"
   ]
  },
  {
   "cell_type": "code",
   "execution_count": 145,
   "metadata": {
    "collapsed": false,
    "scrolled": true
   },
   "outputs": [
    {
     "data": {
      "image/png": "[encoded data removed]",
      "text/plain": [
       "<matplotlib.figure.Figure at 0x11ca680d0>"
      ]
     },
     "metadata": {},
     "output_type": "display_data"
    }
   ],
   "source": [
    "survived_df = titanic_df.loc[titanic_df['Survived'] == 1]\n",
    "\n",
    "%matplotlib inline\n",
    "plt.hist(survived_df['Age'], bins, label='Total Survivers')\n",
    "plt.legend(loc='upper right')\n",
    "plt.title('Age Distribution of Survivers')\n",
    "plt.show()"
   ]
  }
 ],
 "metadata": {
  "kernelspec": {
   "display_name": "Python 2",
   "language": "python",
   "name": "python2"
  },
  "language_info": {
   "codemirror_mode": {
    "name": "ipython",
    "version": 2
   },
   "file_extension": ".py",
   "mimetype": "text/x-python",
   "name": "python",
   "nbconvert_exporter": "python",
   "pygments_lexer": "ipython2",
   "version": "2.7.10"
  }
 },
 "nbformat": 4,
 "nbformat_minor": 0
}
